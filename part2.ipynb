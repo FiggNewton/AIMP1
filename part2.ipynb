{
 "cells": [
  {
   "cell_type": "code",
   "execution_count": null,
   "metadata": {},
   "outputs": [],
   "source": [
    "import json\n",
    "import gzip\n",
    "import numpy as np\n",
    "\n",
    "X = 0\n",
    "Y = 1\n",
    "\n",
    "from sklearn import metrics, feature_extraction, naive_bayes, neural_network, tree\n",
    "from sklearn.metrics import classification_report\n",
    "from sklearn.model_selection import GridSearchCV, train_test_split\n",
    "from sklearn.preprocessing import LabelEncoder;"
   ]
  },
  {
   "cell_type": "code",
   "execution_count": null,
   "metadata": {},
   "outputs": [],
   "source": [
    "file = gzip.open('goemotions.json.gz', 'rb')\n",
    "j = json.load(file)\n",
    "\n",
    "text = [a for a, b, c in j]\n",
    "emotion = [b for a, b, c in j]\n",
    "mood = [c for a, b, c in j]"
   ]
  },
  {
   "cell_type": "code",
   "execution_count": null,
   "metadata": {},
   "outputs": [],
   "source": [
    "vectorizer = feature_extraction.text.CountVectorizer()\n",
    "x = vectorizer.fit_transform(text)\n",
    "print(len(vectorizer.get_feature_names_out()))"
   ]
  },
  {
   "cell_type": "code",
   "execution_count": null,
   "metadata": {},
   "outputs": [],
   "source": [
    "from io import FileIO\n",
    "from typing import List\n",
    "\n",
    "class Data:\n",
    "\tdef __init__(self, type_name, train_x, test_x, train_y, test_y):\n",
    "\t\tself.name = type_name\n",
    "\t\tself.train = (train_x, train_y)\n",
    "\t\tself.test = (test_x, test_y)\n",
    "\n",
    "class WordsAsFeatures:\n",
    "\tdata: List[Data] = []\n",
    "\tdef __init__(self, file_name=\"performance.txt\"):\n",
    "\t\tself.file = open(file_name, \"w\")\n",
    "\n",
    "\tdef addTrainAndTestData(self, type_name, train_x, test_x, train_y, test_y):\n",
    "\t\tself.data.append(Data(type_name, train_x, test_x, train_y, test_y))\n",
    "\n",
    "\tdef writePreformanceFile(self, title, type, predict_y, data, accuracy, params = []):\n",
    "\t\tout = \"\"\n",
    "\t\tout += \"--- \" + title + \" | Hyperparams: \" + str(params or None) + \" | \" + type + \" ---\\n\"\n",
    "\t\tout += str(metrics.confusion_matrix(data.test[1], predict_y)) + \"\\n\"\n",
    "\t\tout += str(classification_report(data.test[1], predict_y, zero_division=0, )) + \"\\n\"\n",
    "\t\tout += \"Accuracy: \" + str(accuracy) + \"\\n\\n\";\n",
    "\t\tself.file.write(out)\n",
    "\n",
    "\tdef trainAndPredictEmotionAndSentiment(self, function, title, hyper_params=False):\n",
    "\t\tfor d in self.data:\n",
    "\t\t\tfunction.fit(d.train[0], d.train[1])\n",
    "\n",
    "\t\t\tpredict_y = function.predict(d.test[0])\n",
    "\t\t\taccuracy = function.score(d.test[0], d.test[1])\n",
    "\t\t\tparams = function.best_params_ if hyper_params else None\n",
    "\t\t\tself.writePreformanceFile(title, d.name, predict_y, d, accuracy, params)\n",
    "\t\tself.file.flush()\n",
    "\t\t\t\n",
    "\tdef close_file(self):\n",
    "\t\tself.file.close()\n",
    "\n",
    "wf = WordsAsFeatures()\n"
   ]
  },
  {
   "cell_type": "code",
   "execution_count": null,
   "metadata": {},
   "outputs": [],
   "source": [
    "train_x, test_x, train_y, test_y = train_test_split(x, mood, test_size=0.2)\n",
    "wf.addTrainAndTestData(\"Sentiment\", train_x, test_x, train_y, test_y)\n",
    "train_x, test_x, train_y, test_y = train_test_split(x, emotion, test_size=0.2)\n",
    "wf.addTrainAndTestData(\"Emotion\", train_x, test_x, train_y, test_y)"
   ]
  },
  {
   "cell_type": "code",
   "execution_count": null,
   "metadata": {},
   "outputs": [],
   "source": [
    "base_mnb = naive_bayes.MultinomialNB()\n",
    "wf.trainAndPredictEmotionAndSentiment(base_mnb, \"Base Multinomial Naive Bayes\")"
   ]
  },
  {
   "cell_type": "code",
   "execution_count": null,
   "metadata": {},
   "outputs": [],
   "source": []
  },
  {
   "cell_type": "code",
   "execution_count": null,
   "metadata": {},
   "outputs": [],
   "source": [
    "base_dt = tree.DecisionTreeClassifier()\n",
    "wf.trainAndPredictEmotionAndSentiment(base_dt, \"Base Decision Tree\")"
   ]
  },
  {
   "cell_type": "code",
   "execution_count": null,
   "metadata": {},
   "outputs": [],
   "source": [
    "base_mlp = neural_network.MLPClassifier(verbose=True)\n",
    "wf.trainAndPredictEmotionAndSentiment(base_mlp, \"Base Multi-Layered Perceptron\")"
   ]
  },
  {
   "cell_type": "code",
   "execution_count": null,
   "metadata": {},
   "outputs": [],
   "source": [
    "print(classification_report(test_y, base_mlp.predict(test_x)))"
   ]
  },
  {
   "cell_type": "code",
   "execution_count": null,
   "metadata": {},
   "outputs": [],
   "source": [
    "top_mnb = GridSearchCV(naive_bayes.MultinomialNB(), {'alpha': [0, 0.5, 0.7, 0.8]})\n",
    "wf.trainAndPredictEmotionAndSentiment(top_mnb, \"Top Multinomial Naive Bayes\", True)"
   ]
  },
  {
   "cell_type": "code",
   "execution_count": null,
   "metadata": {},
   "outputs": [],
   "source": [
    "top_dt = GridSearchCV(tree.DecisionTreeClassifier(), {'criterion': ['gini', 'entropy'], 'max_depth': [30, 80], 'min_samples_split': [2, 3, 4]})\n",
    "wf.trainAndPredictEmotionAndSentiment(top_dt, \"Top Decision Tree\", True)"
   ]
  },
  {
   "cell_type": "code",
   "execution_count": null,
   "metadata": {},
   "outputs": [],
   "source": [
    "# top_mlp = GridSearchCV(neural_network.MLPClassifier(verbose=True), {'activation': ['logistic', 'tanh', 'relu', 'identity'], 'hidden_layer_sizes': [(30, 50,), (10, 10, 10,)], 'solver': ['adam', 'sgd']})\n",
    "top_mlp = neural_network.MLPClassifier(verbose=True, activation='logistic', hidden_layer_sizes=(15, 30, 25,), solver='adam')\n",
    "wf.trainAndPredictEmotionAndSentiment(top_mlp, \"Top Multi-Layered Perceptron\", True)"
   ]
  }
 ],
 "metadata": {
  "kernelspec": {
   "display_name": "Python 3.8.10 64-bit",
   "language": "python",
   "name": "python3"
  },
  "language_info": {
   "codemirror_mode": {
    "name": "ipython",
    "version": 3
   },
   "file_extension": ".py",
   "mimetype": "text/x-python",
   "name": "python",
   "nbconvert_exporter": "python",
   "pygments_lexer": "ipython3",
   "version": "3.8.10"
  },
  "orig_nbformat": 4,
  "vscode": {
   "interpreter": {
    "hash": "31f2aee4e71d21fbe5cf8b01ff0e069b9275f58929596ceb00d14d90e3e16cd6"
   }
  }
 },
 "nbformat": 4,
 "nbformat_minor": 2
}
